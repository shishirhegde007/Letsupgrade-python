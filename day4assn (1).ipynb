{
  "nbformat": 4,
  "nbformat_minor": 0,
  "metadata": {
    "colab": {
      "name": "day4assn.ipynb",
      "provenance": []
    },
    "kernelspec": {
      "name": "python3",
      "display_name": "Python 3"
    }
  },
  "cells": [
    {
      "cell_type": "code",
      "metadata": {
        "id": "Dq1BoKYD7ycL",
        "colab_type": "code",
        "colab": {
          "base_uri": "https://localhost:8080/",
          "height": 34
        },
        "outputId": "09f4f506-6749-43f8-ed87-f4714e5f3698"
      },
      "source": [
        "for i in range (400,408):\n",
        "  temp=i\n",
        "  sum=0\n",
        "  while(i>0):\n",
        "    r=i%10\n",
        "    sum+= (r**3)\n",
        "    i//=10\n",
        "  if(temp==sum):\n",
        "    print(sum)\n",
        "    break\n"
      ],
      "execution_count": 5,
      "outputs": [
        {
          "output_type": "stream",
          "text": [
            "407\n"
          ],
          "name": "stdout"
        }
      ]
    },
    {
      "cell_type": "code",
      "metadata": {
        "id": "8bjHYGsAQd7H",
        "colab_type": "code",
        "colab": {}
      },
      "source": [
        ""
      ],
      "execution_count": null,
      "outputs": []
    }
  ]
}