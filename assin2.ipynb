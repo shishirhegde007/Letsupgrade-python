{
  "nbformat": 4,
  "nbformat_minor": 0,
  "metadata": {
    "colab": {
      "name": "assin2.ipynb",
      "provenance": []
    },
    "kernelspec": {
      "name": "python3",
      "display_name": "Python 3"
    }
  },
  "cells": [
    {
      "cell_type": "code",
      "metadata": {
        "id": "r56ITrP4VohJ",
        "colab_type": "code",
        "colab": {
          "base_uri": "https://localhost:8080/",
          "height": 119
        },
        "outputId": "a5066df1-dacd-4457-a19f-8f8d86d29c4b"
      },
      "source": [
        "for i in range(0,3):\n",
        " n =int(input())\n",
        " if(n<=1000):\n",
        "  print(\"safe landing\")\n",
        " elif(n>1000 and n<5000):\n",
        "  print(\"bring down to 1000\")\n",
        " elif(n>5000):\n",
        "  print(\"turn around\")"
      ],
      "execution_count": 8,
      "outputs": [
        {
          "output_type": "stream",
          "text": [
            "1000\n",
            "safe landing\n",
            "4500\n",
            "bring down to 1000\n",
            "6500\n",
            "turn around\n"
          ],
          "name": "stdout"
        }
      ]
    },
    {
      "cell_type": "code",
      "metadata": {
        "id": "254VU85MXBOA",
        "colab_type": "code",
        "colab": {}
      },
      "source": [
        ""
      ],
      "execution_count": null,
      "outputs": []
    }
  ]
}