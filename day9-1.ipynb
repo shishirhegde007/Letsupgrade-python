{
 "cells": [
  {
   "cell_type": "code",
   "execution_count": 1,
   "metadata": {},
   "outputs": [
    {
     "name": "stdout",
     "output_type": "stream",
     "text": [
      "Requirement already satisfied: pylint in c:\\programdata\\anaconda3\\lib\\site-packages (2.4.4)\n",
      "Requirement already satisfied: astroid<2.4,>=2.3.0 in c:\\programdata\\anaconda3\\lib\\site-packages (from pylint) (2.3.3)\n",
      "Requirement already satisfied: mccabe<0.7,>=0.6 in c:\\programdata\\anaconda3\\lib\\site-packages (from pylint) (0.6.1)\n",
      "Requirement already satisfied: isort<5,>=4.2.5 in c:\\programdata\\anaconda3\\lib\\site-packages (from pylint) (4.3.21)\n",
      "Requirement already satisfied: colorama; sys_platform == \"win32\" in c:\\programdata\\anaconda3\\lib\\site-packages (from pylint) (0.4.3)\n",
      "Requirement already satisfied: six~=1.12 in c:\\programdata\\anaconda3\\lib\\site-packages (from astroid<2.4,>=2.3.0->pylint) (1.14.0)\n",
      "Requirement already satisfied: lazy-object-proxy==1.4.* in c:\\programdata\\anaconda3\\lib\\site-packages (from astroid<2.4,>=2.3.0->pylint) (1.4.3)\n",
      "Requirement already satisfied: wrapt==1.11.* in c:\\programdata\\anaconda3\\lib\\site-packages (from astroid<2.4,>=2.3.0->pylint) (1.11.2)\n",
      "Collecting typed-ast<1.5,>=1.4.0; implementation_name == \"cpython\" and python_version < \"3.8\"\n",
      "  Downloading typed_ast-1.4.1-cp37-cp37m-win_amd64.whl (155 kB)\n",
      "Installing collected packages: typed-ast\n",
      "Successfully installed typed-ast-1.4.1\n"
     ]
    }
   ],
   "source": [
    "! pip install pylint"
   ]
  },
  {
   "cell_type": "code",
   "execution_count": 60,
   "metadata": {},
   "outputs": [
    {
     "name": "stdout",
     "output_type": "stream",
     "text": [
      "Overwriting prime_code.py\n"
     ]
    }
   ],
   "source": [
    "%%writefile prime_code.py\n",
    "'''\n",
    "its prime no fuction code\n",
    "'''\n",
    "\n",
    "def prime(A):\n",
    "    '''\n",
    "    function\n",
    "    '''\n",
    "    if(A == 2 or A == 3):\n",
    "        print(\"Its prime no\")\n",
    "    elif(A%2 != 0 and A%3 != 0):\n",
    "        print(\"Its prime no\")\n",
    "    else:\n",
    "        print(\"its not a prime no\")\n",
    "prime(5)"
   ]
  },
  {
   "cell_type": "code",
   "execution_count": 61,
   "metadata": {},
   "outputs": [
    {
     "name": "stdout",
     "output_type": "stream",
     "text": [
      "************* Module prime_code\n",
      "prime_code.py:5:0: C0103: Argument name \"A\" doesn't conform to snake_case naming style (invalid-name)\n",
      "prime_code.py:9:7: R1714: Consider merging these comparisons with \"in\" to 'A in (2, 3)' (consider-using-in)\n",
      "\n",
      "------------------------------------------------------------------\n",
      "\n",
      "Your code has been rated at 7.14/10 (previous run: 7.14/10, +0.00)\n",
      "\n",
      "\n",
      "\n"
     ]
    }
   ],
   "source": [
    "! pylint \"prime_code.py\""
   ]
  },
  {
   "cell_type": "code",
   "execution_count": 57,
   "metadata": {},
   "outputs": [
    {
     "name": "stdout",
     "output_type": "stream",
     "text": [
      "Overwriting prime_test.py\n"
     ]
    }
   ],
   "source": [
    "%%writefile prime_test.py\n",
    "\n",
    "import unittest\n",
    "import prime_code\n",
    "\n",
    "class test(unittest.TestCase):\n",
    "    def num(self):\n",
    "        res=7\n",
    "        result=prime_test.prime(res)\n",
    "        self.assertEquals(result,\"Its prime no\")\n",
    "if __name__==\"__main__\":\n",
    "    unittest.main()\n",
    "        "
   ]
  },
  {
   "cell_type": "markdown",
   "metadata": {},
   "source": [
    "# Generator"
   ]
  },
  {
   "cell_type": "code",
   "execution_count": 66,
   "metadata": {},
   "outputs": [],
   "source": [
    "def prime(A):\n",
    "    \n",
    "    if(A == 2 or A == 3):\n",
    "        yield \"its prime\"\n",
    "    elif(A%2 != 0 and A%3 != 0):\n",
    "        yield \"its prime\"\n",
    "    else:\n",
    "        yield \"its not prime\""
   ]
  },
  {
   "cell_type": "code",
   "execution_count": 74,
   "metadata": {},
   "outputs": [],
   "source": [
    "lst = list('')\n",
    "for i in range(1,100):\n",
    "    result=prime(i)\n",
    "lst.append(result)"
   ]
  },
  {
   "cell_type": "code",
   "execution_count": 75,
   "metadata": {},
   "outputs": [
    {
     "data": {
      "text/plain": [
       "[<generator object prime at 0x000001BF25DB2048>]"
      ]
     },
     "execution_count": 75,
     "metadata": {},
     "output_type": "execute_result"
    }
   ],
   "source": [
    "list(lst"
   ]
  },
  {
   "cell_type": "code",
   "execution_count": null,
   "metadata": {
    "scrolled": true
   },
   "outputs": [],
   "source": []
  },
  {
   "cell_type": "code",
   "execution_count": null,
   "metadata": {},
   "outputs": [],
   "source": []
  }
 ],
 "metadata": {
  "kernelspec": {
   "display_name": "Python 3",
   "language": "python",
   "name": "python3"
  },
  "language_info": {
   "codemirror_mode": {
    "name": "ipython",
    "version": 3
   },
   "file_extension": ".py",
   "mimetype": "text/x-python",
   "name": "python",
   "nbconvert_exporter": "python",
   "pygments_lexer": "ipython3",
   "version": "3.7.6"
  }
 },
 "nbformat": 4,
 "nbformat_minor": 4
}
