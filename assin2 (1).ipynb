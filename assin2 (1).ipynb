{
  "nbformat": 4,
  "nbformat_minor": 0,
  "metadata": {
    "colab": {
      "name": "assin2.ipynb",
      "provenance": []
    },
    "kernelspec": {
      "name": "python3",
      "display_name": "Python 3"
    }
  },
  "cells": [
    {
      "cell_type": "code",
      "metadata": {
        "id": "r56ITrP4VohJ",
        "colab_type": "code",
        "colab": {
          "base_uri": "https://localhost:8080/",
          "height": 1000
        },
        "outputId": "6f128877-9e43-4d83-b419-1a969b9a71b5"
      },
      "source": [
        "print(2)\n",
        "print(3)\n",
        "for i in range(2,201):\n",
        "  if(i%2!=0 and i%3!=0):\n",
        "    print(i)\n",
        " "
      ],
      "execution_count": 15,
      "outputs": [
        {
          "output_type": "stream",
          "text": [
            "2\n",
            "3\n",
            "5\n",
            "7\n",
            "11\n",
            "13\n",
            "17\n",
            "19\n",
            "23\n",
            "25\n",
            "29\n",
            "31\n",
            "35\n",
            "37\n",
            "41\n",
            "43\n",
            "47\n",
            "49\n",
            "53\n",
            "55\n",
            "59\n",
            "61\n",
            "65\n",
            "67\n",
            "71\n",
            "73\n",
            "77\n",
            "79\n",
            "83\n",
            "85\n",
            "89\n",
            "91\n",
            "95\n",
            "97\n",
            "101\n",
            "103\n",
            "107\n",
            "109\n",
            "113\n",
            "115\n",
            "119\n",
            "121\n",
            "125\n",
            "127\n",
            "131\n",
            "133\n",
            "137\n",
            "139\n",
            "143\n",
            "145\n",
            "149\n",
            "151\n",
            "155\n",
            "157\n",
            "161\n",
            "163\n",
            "167\n",
            "169\n",
            "173\n",
            "175\n",
            "179\n",
            "181\n",
            "185\n",
            "187\n",
            "191\n",
            "193\n",
            "197\n",
            "199\n"
          ],
          "name": "stdout"
        }
      ]
    },
    {
      "cell_type": "code",
      "metadata": {
        "id": "254VU85MXBOA",
        "colab_type": "code",
        "colab": {}
      },
      "source": [
        ""
      ],
      "execution_count": null,
      "outputs": []
    }
  ]
}