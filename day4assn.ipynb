{
  "nbformat": 4,
  "nbformat_minor": 0,
  "metadata": {
    "colab": {
      "name": "day4assn.ipynb",
      "provenance": []
    },
    "kernelspec": {
      "name": "python3",
      "display_name": "Python 3"
    }
  },
  "cells": [
    {
      "cell_type": "code",
      "metadata": {
        "id": "Dq1BoKYD7ycL",
        "colab_type": "code",
        "colab": {}
      },
      "source": [
        "for i in range (1042000,702648265):\n",
        "  temp=i\n",
        "  while(i<0):\n",
        "    r=i%10\n",
        "    sum=sum+(r*r*r)\n",
        "    i=i%10\n",
        "  if(temp==sum):\n",
        "    print(temp)\n",
        "    break\n"
      ],
      "execution_count": 1,
      "outputs": []
    },
    {
      "cell_type": "code",
      "metadata": {
        "id": "8bjHYGsAQd7H",
        "colab_type": "code",
        "colab": {}
      },
      "source": [
        ""
      ],
      "execution_count": null,
      "outputs": []
    }
  ]
}