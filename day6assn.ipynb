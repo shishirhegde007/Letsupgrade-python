{
  "nbformat": 4,
  "nbformat_minor": 0,
  "metadata": {
    "colab": {
      "name": "day6assn.ipynb",
      "provenance": []
    },
    "kernelspec": {
      "name": "python3",
      "display_name": "Python 3"
    }
  },
  "cells": [
    {
      "cell_type": "code",
      "metadata": {
        "id": "8bjHYGsAQd7H",
        "colab_type": "code",
        "colab": {}
      },
      "source": [
        "class bank():\n",
        "  def __init__(self,name,balance):\n",
        "    self.name=name\n",
        "    self.balance=balance\n",
        "  def deposit(self,money):\n",
        "    self.balance+=money\n",
        "  def withdraw(self,money):\n",
        "    self.balance-=money\n",
        "  def print(self):\n",
        "    print(self.name)\n",
        "    print(self.balance)"
      ],
      "execution_count": 10,
      "outputs": []
    },
    {
      "cell_type": "code",
      "metadata": {
        "id": "QLhaKVNJdcWh",
        "colab_type": "code",
        "colab": {}
      },
      "source": [
        "sbi = bank(\"shishir\",100)"
      ],
      "execution_count": 11,
      "outputs": []
    },
    {
      "cell_type": "code",
      "metadata": {
        "id": "v618V9G7eRxN",
        "colab_type": "code",
        "colab": {}
      },
      "source": [
        "sbi.deposit(100)"
      ],
      "execution_count": 12,
      "outputs": []
    },
    {
      "cell_type": "code",
      "metadata": {
        "id": "2iV15ahdedZq",
        "colab_type": "code",
        "colab": {
          "base_uri": "https://localhost:8080/",
          "height": 51
        },
        "outputId": "91f3979f-2aa7-42ac-e484-f31d6060983a"
      },
      "source": [
        "sbi.print()"
      ],
      "execution_count": 13,
      "outputs": [
        {
          "output_type": "stream",
          "text": [
            "shishir\n",
            "200\n"
          ],
          "name": "stdout"
        }
      ]
    },
    {
      "cell_type": "code",
      "metadata": {
        "id": "wON081kief9n",
        "colab_type": "code",
        "colab": {}
      },
      "source": [
        "sbi.withdraw(150)"
      ],
      "execution_count": 14,
      "outputs": []
    },
    {
      "cell_type": "code",
      "metadata": {
        "id": "K3i2w969emTW",
        "colab_type": "code",
        "colab": {
          "base_uri": "https://localhost:8080/",
          "height": 51
        },
        "outputId": "0b44eb27-bb18-45d2-85d8-dd8e4f92c377"
      },
      "source": [
        "sbi.print()"
      ],
      "execution_count": 15,
      "outputs": [
        {
          "output_type": "stream",
          "text": [
            "shishir\n",
            "50\n"
          ],
          "name": "stdout"
        }
      ]
    },
    {
      "cell_type": "code",
      "metadata": {
        "id": "NTLibzuJepJN",
        "colab_type": "code",
        "colab": {}
      },
      "source": [
        ""
      ],
      "execution_count": null,
      "outputs": []
    }
  ]
}